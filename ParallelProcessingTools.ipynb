{
 "cells": [
  {
   "cell_type": "markdown",
   "metadata": {},
   "source": [
    "Parallel Processing Libraries in Python:\n",
    "* [`concurrent.futures`(https://docs.python.org/3/library/concurrent.futures.html) threads + processes\n",
    "* [`ipyparallel`](https://github.com/ipython/ipyparallel) - can run locally and on a cluster \n",
    "* [`joblib`](https://pythonhosted.org/joblib/) - (used by scikit learn under the hood - grid search)\n",
    "\n",
    "\n",
    "Often require reorganizing serial code in to 'map-reduce' format.\n",
    "\n",
    "* put all the operations in a mapping function\n",
    "* create a list of objects  we will apply the function on\n",
    "\n",
    "The output usually is a list of the processed images (i.e. there is no reduce-part yet) and a further function can combine those outputs. \n",
    "\n",
    "Example: we process separately a sequence of images with the same function. \n",
    "\n",
    "* But what if a computation requires all the images at the same time.\n",
    "\n",
    "* Or if the image is so big, so we want to split the processing of the different chunks of the image and then combine them into one output. "
   ]
  },
  {
   "cell_type": "markdown",
   "metadata": {},
   "source": [
    "What if we do not want to change the code much?"
   ]
  },
  {
   "cell_type": "markdown",
   "metadata": {},
   "source": [
    "Concept of lazy evaluation here?"
   ]
  },
  {
   "cell_type": "code",
   "execution_count": null,
   "metadata": {},
   "outputs": [],
   "source": []
  },
  {
   "cell_type": "code",
   "execution_count": null,
   "metadata": {},
   "outputs": [],
   "source": []
  }
 ],
 "metadata": {
  "kernelspec": {
   "display_name": "Python 3",
   "language": "python",
   "name": "python3"
  },
  "language_info": {
   "codemirror_mode": {
    "name": "ipython",
    "version": 3
   },
   "file_extension": ".py",
   "mimetype": "text/x-python",
   "name": "python",
   "nbconvert_exporter": "python",
   "pygments_lexer": "ipython3",
   "version": "3.6.1"
  }
 },
 "nbformat": 4,
 "nbformat_minor": 2
}
